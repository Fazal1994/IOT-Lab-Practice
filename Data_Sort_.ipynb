{
  "nbformat": 4,
  "nbformat_minor": 0,
  "metadata": {
    "colab": {
      "name": "Data Sort .ipynb",
      "provenance": []
    },
    "kernelspec": {
      "name": "python3",
      "display_name": "Python 3"
    },
    "language_info": {
      "name": "python"
    }
  },
  "cells": [
    {
      "cell_type": "markdown",
      "source": [
        "Q) Make a list of ten cities of Pakistan, apply temporary and \n",
        "permanent sort and reverse sort.\n",
        "Make a sublist of the above list and slice cities from \n",
        "location 4 to 8 from main list, store the sublist in another list and print it.\n"
      ],
      "metadata": {
        "id": "URyOlZ7I-lnI"
      }
    },
    {
      "cell_type": "code",
      "execution_count": null,
      "metadata": {
        "id": "oVNr_SYZ9-7F"
      },
      "outputs": [],
      "source": [
        "\n",
        "cities = ['karachi','lahore','islamabad','peshawar','faisalabad','quetta','multan','sialkot','hydrabad','larkana']\n",
        "print(sorted(cities))\n",
        "\n",
        "cities.sort()\n",
        "cities[:]\n",
        "\n",
        "cities.sort(reverse=True)\n",
        "cities[:]\n",
        "\n",
        "cities = ['karachi','lahore','islamabad','peshawar','faisalabad','quetta','multan','sialkot','hydrabad','larkana']\n",
        "sub_cities = (cities[4:8])\n",
        "\n",
        "print(sub_cities)"
      ]
    }
  ]
}